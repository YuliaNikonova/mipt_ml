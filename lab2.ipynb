{
 "metadata": {
  "name": ""
 },
 "nbformat": 3,
 "nbformat_minor": 0,
 "worksheets": [
  {
   "cells": [
    {
     "cell_type": "code",
     "collapsed": false,
     "input": [
      "import pandas as pd\n",
      "import numpy as np\n",
      "import copy\n",
      "\n",
      "def dummy_encode_categorical_columns(df, categorical_columns):\n",
      "    result_df = copy.deepcopy(df)\n",
      "    for column in categorical_columns:\n",
      "        result_df = pd.concat([result_df, pd.get_dummies(result_df[column], prefix=column, prefix_sep=': ')], axis=1)\n",
      "        del result_df[column]\n",
      "    return result_df\n"
     ],
     "language": "python",
     "metadata": {},
     "outputs": [],
     "prompt_number": 104
    },
    {
     "cell_type": "code",
     "collapsed": false,
     "input": [
      "df=pd.read_csv('train.csv')"
     ],
     "language": "python",
     "metadata": {},
     "outputs": [],
     "prompt_number": 105
    },
    {
     "cell_type": "code",
     "collapsed": false,
     "input": [
      "df_res=copy.deepcopy(df.head(10000))\n",
      "categorical_columns = set(df_res.columns[df_res.dtypes == 'object']) - {'CLASS'}\n",
      "X=dummy_encode_categorical_columns(df_res.drop('CLASS', axis=1), categorical_columns)\n",
      "Y=df_res['CLASS']"
     ],
     "language": "python",
     "metadata": {},
     "outputs": [],
     "prompt_number": 106
    }
   ],
   "metadata": {}
  }
 ]
}