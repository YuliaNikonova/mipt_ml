{
 "metadata": {
  "name": "practice2"
 },
 "nbformat": 3,
 "nbformat_minor": 0,
 "worksheets": [
  {
   "cells": [
    {
     "cell_type": "code",
     "collapsed": false,
     "input": [
      "%pylab inline\n",
      "data_train = loadtxt('train.csv', delimiter=',', dtype=int, skiprows=1)\n",
      "data_test = loadtxt('test.csv', delimiter=',', dtype=int, skiprows=1)\n",
      "X = data_train[:, 1:]    # train features\n",
      "y = data_train[:, 0]     # train target (class)\n",
      "Xt = data_test[:, 1:]    # test features"
     ],
     "language": "python",
     "metadata": {},
     "outputs": [
      {
       "output_type": "stream",
       "stream": "stdout",
       "text": [
        "\n",
        "Welcome to pylab, a matplotlib-based Python environment [backend: module://IPython.zmq.pylab.backend_inline].\n",
        "For more information, type 'help(pylab)'.\n"
       ]
      }
     ],
     "prompt_number": 6
    },
    {
     "cell_type": "code",
     "collapsed": false,
     "input": [
      "def write_predictions(filename, yt):\n",
      "    with open(filename, 'w') as f:\n",
      "        f.write('id,target\\n')\n",
      "        for id, target in enumerate(yt):\n",
      "            f.write('%d,%f\\n' % (id, target))"
     ],
     "language": "python",
     "metadata": {},
     "outputs": [],
     "prompt_number": 7
    },
    {
     "cell_type": "code",
     "collapsed": false,
     "input": [
      "from sklearn import linear_model\n",
      "from sklearn.preprocessing import scale\n"
     ],
     "language": "python",
     "metadata": {},
     "outputs": [],
     "prompt_number": 8
    },
    {
     "cell_type": "code",
     "collapsed": false,
     "input": [
      "#a_train, a_test, b_train, b_test = train_test_split(a, b, test_size=0.33, random_state=42)"
     ],
     "language": "python",
     "metadata": {},
     "outputs": [],
     "prompt_number": 9
    },
    {
     "cell_type": "code",
     "collapsed": false,
     "input": [
      "from sklearn.feature_selection import SelectPercentile, chi2\n",
      "selector = SelectPercentile(chi2, percentile=80)\n",
      "selector.fit(X, y)"
     ],
     "language": "python",
     "metadata": {},
     "outputs": [
      {
       "output_type": "pyout",
       "prompt_number": 10,
       "text": [
        "SelectPercentile(percentile=80, score_func=<function chi2 at 0xaac880c>)"
       ]
      }
     ],
     "prompt_number": 10
    },
    {
     "cell_type": "code",
     "collapsed": false,
     "input": [
      "model = linear_model.LogisticRegression()\n",
      "model.fit(selector.transform(X), y)\n",
      "yt = model.predict_proba(selector.transform(Xt))\n",
      "write_predictions('submission.csv', yt[:, 1])\n"
     ],
     "language": "python",
     "metadata": {},
     "outputs": [],
     "prompt_number": 11
    },
    {
     "cell_type": "code",
     "collapsed": false,
     "input": [],
     "language": "python",
     "metadata": {},
     "outputs": []
    }
   ],
   "metadata": {}
  }
 ]
}