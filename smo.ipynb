{
 "metadata": {
  "name": ""
 },
 "nbformat": 3,
 "nbformat_minor": 0,
 "worksheets": [
  {
   "cells": [
    {
     "cell_type": "code",
     "collapsed": false,
     "input": [
      "import pandas as pd\n",
      "import numpy as np\n",
      "import random\n",
      "import matplotlib.pyplot as plt"
     ],
     "language": "python",
     "metadata": {},
     "outputs": [],
     "prompt_number": 68
    },
    {
     "cell_type": "code",
     "collapsed": false,
     "input": [
      "def gauss(x1, x2, sigma=1):\n",
      "    mod = sum([abs(x1[i] - x2[i]) for i in range(len(x1))])\n",
      "    return scipy.exp(-mod / sigma ** 2)"
     ],
     "language": "python",
     "metadata": {},
     "outputs": [],
     "prompt_number": 69
    },
    {
     "cell_type": "code",
     "collapsed": false,
     "input": [
      "def f(X, x, y, a, b, kernel):\n",
      "    return sum([a[j] * y[j] * kernel( X[j], x) for j in range(len(X))]) + b"
     ],
     "language": "python",
     "metadata": {},
     "outputs": [],
     "prompt_number": 70
    },
    {
     "cell_type": "heading",
     "level": 4,
     "metadata": {},
     "source": [
      "smo algorithm"
     ]
    },
    {
     "cell_type": "code",
     "collapsed": false,
     "input": [
      "def smo(X, y, C, tol, max_passes, kernel):\n",
      "    a = [0.0 for i in range(len(X))]\n",
      "    b = 0.0\n",
      "    passes = 0\n",
      "    m = len(X)  \n",
      "    ikkk = 1\n",
      "    while passes < max_passes:\n",
      "        # ikkk\n",
      "        #ikkk = ikkk+1\n",
      "        num_changed_alphas = 0\n",
      "        for i in range(m):\n",
      "            #print \"I check \", i\n",
      "            Ei = f(X, X[i], y, a, b, kernel)- y[i]\n",
      "            #print \"I check \", i, \": \", Ei\n",
      "            if (y[i] * Ei < -tol and a[i] < C) or (y[i] * Ei > tol and a[i] > 0):\n",
      "                #print \"bad !!\", i\n",
      "                j = random.randint(0, m - 1)\n",
      "                while j == i:\n",
      "                    j = random.randint(0, m - 1)\n",
      "                Ej = f(X, X[j], y, a, b, kernel) - y[j]\n",
      "                ai_old = a[i]\n",
      "                aj_old = a[j]\n",
      "\n",
      "                if y[i] == y[j]:\n",
      "                    L = max([0, a[i] + a[j] - C])\n",
      "                    H = min([C, a[i] + a[j]])\n",
      "                else:\n",
      "                    L = max([0, a[j] - a[i]])\n",
      "                    H = min([C, C + a[j] - a[i]])\n",
      "                \n",
      "                if L == H:\n",
      "                    continue\n",
      "\n",
      "                n = 2 * kernel(X[i], X[j]) - kernel(X[i], X[i]) - kernel(X[j], X[j])\n",
      "                \n",
      "                if n >= 0:\n",
      "                    continue\n",
      "                a[j] = aj_old - float(y[j] * (Ei - Ej)) / n\n",
      "                a[j] = min(H, a[j])\n",
      "                a[j] = max(L, a[j])\n",
      "                if abs(a[j] - aj_old) < 1e-5:\n",
      "                    continue\n",
      "\n",
      "                a[i] = ai_old + y[i] * y[j] * (aj_old - a[j])\n",
      "                b1 = b - Ei - y[i] * (a[i] - ai_old) * kernel(X[i], X[i]) - y[j] * (a[j] - aj_old) * kernel(X[i], X[j])\n",
      "                b2 = b - Ej - y[i] * (a[i] - ai_old) * kernel(X[i], X[j]) - y[j] * (a[j] - aj_old) * kernel(X[j], X[j])\n",
      "                if 0 < a[i] < C:\n",
      "                    b = b1\n",
      "                elif 0 < a[j] < C:\n",
      "                    b = b2\n",
      "                else:\n",
      "                    b = (b1 + b2) / 2\n",
      "                num_changed_alphas += 1\n",
      "        \n",
      "        if num_changed_alphas == 0:\n",
      "            passes += 1\n",
      "        else:\n",
      "            passes = 0\n",
      "    return a, b"
     ],
     "language": "python",
     "metadata": {},
     "outputs": [],
     "prompt_number": 71
    },
    {
     "cell_type": "heading",
     "level": 4,
     "metadata": {},
     "source": [
      "\u0413\u0435\u043d\u0435\u0440\u0430\u0446\u0438\u044f \u0434\u0430\u043d\u043d\u044b\u0445 1"
     ]
    },
    {
     "cell_type": "code",
     "collapsed": false,
     "input": [
      "x = np.vstack((np.random.uniform(size=100).reshape((50,2)), np.random.uniform(size=100).reshape((50,2)) + 1)) \n",
      "plt.plot(x[:,0], x[:,1], 'bo')\n",
      "y1 = np.random.uniform(size=100).reshape((50,2))\n",
      "y2 = np.random.uniform(size=100).reshape((50,2))\n",
      "y1[:,0] += 1\n",
      "y2[:,1] += 1\n",
      "plt.plot(y2[:,0], y2[:,1], 'go')\n",
      "plt.plot(y1[:,0], y1[:,1], 'go')\n",
      "plt.show()"
     ],
     "language": "python",
     "metadata": {},
     "outputs": [],
     "prompt_number": 61
    },
    {
     "cell_type": "code",
     "collapsed": false,
     "input": [
      "X = np.concatenate((x, y1, y2))\n",
      "y = [1 for i in range(len(x))] + [-1 for i in range(len(y1) + len(y2))]\n",
      "#print len(X)\n",
      "#print len(y)\n",
      "a, b = smo(X, y, 1, 1e-3, 5, gauss)\n"
     ],
     "language": "python",
     "metadata": {},
     "outputs": [
      {
       "output_type": "stream",
       "stream": "stdout",
       "text": [
        "[0, 0, 0, 0.48464482334823045, 0.12673673813945191, 0, 1, 0, 0, 0, 0, 0.98160437334249806, 1, 0, 1, 1, 1, 0, 0, 0.9550832313132307, 1, 1, 0.14550192637648438, 1, 0, 0, 0, 1, 0.31481200042985741, 0.46311876751497238, 0, 0, 0, 0.16790253404154207, 0, 0.28452000494697949, 0, 0, 1, 0, 0.63327034685019712, 0, 0, 0, 0, 0, 0, 0, 1, 1, 0.43796197568225248, 0, 1, 0, 0, 1, 0, 0, 0, 1, 0, 0, 0, 0, 0, 0.7713513188206752, 0, 0, 0.67311322429435783, 0, 1, 0, 0, 1, 0, 0.33407864581772539, 1, 0, 1, 0.25212255692787594, 0.47881595732824234, 0, 0, 0, 0, 0, 1, 0.4542657108580247, 7.0947631456932773e-05, 0, 1, 0, 0, 0.91357634154105205, 0.29890385028760974, 1, 0.2927591894935378, 0, 0, 1, 0, 0.36614865125160961, 1, 1, 0.78165113267845088, 0.88529641145930249, 0, 0, 0.00094626150362807848, 0.051873223529472871, 0, 0.37731082177446512, 0, 0, 0, 0, 0, 0, 1, 0, 0, 1, 0, 0.035390987257523945, 0, 0, 0, 0, 0, 1, 0, 0, 0, 0, 0.026187784860089137, 1, 0.00018379918681913265, 0.10811031303818087, 1, 0, 0.088802135521558953, 1, 0.71593614615002532, 0.38435101802131277, 1, 0, 1, 0.262523311547328, 0, 1, 0, 0, 0.0047871818289444449, 0.75606072849175776, 0.019897414428392369, 0, 0, 0, 0, 1, 1, 0.0059760655171496807, 1, 1, 0, 0, 0, 0, 1, 0.99746279799890636, 0.14393693807059604, 0.68375314755577765, 0, 1, 0, 1, 0.7749647637869389, 0, 0, 0, 0, 0, 0, 0, 0, 1, 0, 0.1933297761657361, 1, 1, 0, 0, 0, 1, 1, 0.25375147133521014, 0.54557774097254885, 1, 0, 0]\n",
        "0.00852796219401\n"
       ]
      }
     ],
     "prompt_number": 62
    },
    {
     "cell_type": "code",
     "collapsed": false,
     "input": [
      "x_test, y_test  = np.meshgrid(np.linspace(0, 2, 100), np.linspace(0, 2, 100))\n",
      "z = [[f(X, np.array([x_test[0][i], x_test[1][j]]), y, a, b, gauss) for i in range(len(x_test))] for j in range(len(y_test))]\n",
      "\n"
     ],
     "language": "python",
     "metadata": {},
     "outputs": [],
     "prompt_number": 64
    },
    {
     "cell_type": "code",
     "collapsed": false,
     "input": [
      "plt.plot(x[:,0], x[:,1], 'bo')\n",
      "plt.plot(y2[:,0], y2[:,1], 'go')\n",
      "plt.plot(y1[:,0], y1[:,1], 'go')\n",
      "plt.imshow(z, interpolation='nearest', extent=(x_test.min(), x_test.max(), y_test.min(), y_test.max()), aspect='auto', origin='lower', cmap=plt.cm.PuOr_r)\n",
      "contours = plt.contour(x_test, y_test, z, levels=[0], linewidths=3, linetypes='--', colors='red')\n",
      "plt.xticks(())\n",
      "plt.yticks(())\n",
      "plt.show()"
     ],
     "language": "python",
     "metadata": {},
     "outputs": [],
     "prompt_number": 66
    },
    {
     "cell_type": "heading",
     "level": 4,
     "metadata": {},
     "source": [
      "\u0413\u0435\u043d\u0435\u0440\u0430\u0446\u0438\u044f \u0434\u0430\u043d\u043d\u044b\u0445 2"
     ]
    },
    {
     "cell_type": "code",
     "collapsed": false,
     "input": [
      "size = 100\n",
      "x = np.random.randn(size, 2)\n",
      "r = np.abs(np.random.randn(size)) + 4\n",
      "fi = np.random.uniform(0.0, 2 * np.pi, size = size)\n",
      "y = np.vstack((r * np.cos(fi), r * np.sin(fi))).T\n",
      "plt.plot(x[:,0], x[:,1], 'bo')\n",
      "plt.plot(y[:,0], y[:,1], 'go')\n",
      "plt.show()"
     ],
     "language": "python",
     "metadata": {},
     "outputs": [],
     "prompt_number": 87
    },
    {
     "cell_type": "code",
     "collapsed": false,
     "input": [
      "X = np.concatenate((x, y))\n",
      "Y = [1 for i in range(len(x))] + [-1 for i in range(len(y))]\n",
      "a, b = smo(X, Y, 1, 1e-2, 5, gauss)"
     ],
     "language": "python",
     "metadata": {},
     "outputs": [],
     "prompt_number": 88
    },
    {
     "cell_type": "code",
     "collapsed": false,
     "input": [
      "x_test, y_test = np.meshgrid(np.linspace(-6, -6, size), np.linspace(-6, -6, size))\n",
      "z = [[f(X, np.array([x_test[0][i], x_test[1][j]]), Y, a, b, gauss) for i in range(len(x_test))] for j in range(len(y_test))]"
     ],
     "language": "python",
     "metadata": {},
     "outputs": [],
     "prompt_number": 95
    },
    {
     "cell_type": "code",
     "collapsed": false,
     "input": [
      "#print z\n",
      "plt.plot(x[:,0], x[:,1], 'bo')\n",
      "plt.plot(y[:,0], y[:,1], 'go')\n",
      "plt.imshow(z, interpolation='nearest', extent=(x_test.min(), x_test.max(), y_test.min(), y_test.max()), aspect='auto', origin='lower', cmap=plt.cm.PuOr_r)\n",
      "#contours = plt.contour(x_test, y_test, z, levels=[0], linewidths=3, linetypes='--', colors='red')\n",
      "plt.xticks(())\n",
      "plt.yticks(())\n",
      "plt.show()"
     ],
     "language": "python",
     "metadata": {},
     "outputs": [],
     "prompt_number": 98
    },
    {
     "cell_type": "code",
     "collapsed": false,
     "input": [],
     "language": "python",
     "metadata": {},
     "outputs": []
    }
   ],
   "metadata": {}
  }
 ]
}