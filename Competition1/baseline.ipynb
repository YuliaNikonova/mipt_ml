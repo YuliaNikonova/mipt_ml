{
 "metadata": {
  "name": ""
 },
 "nbformat": 3,
 "nbformat_minor": 0,
 "worksheets": [
  {
   "cells": [
    {
     "cell_type": "code",
     "collapsed": false,
     "input": [
      "ls"
     ],
     "language": "python",
     "metadata": {},
     "outputs": [
      {
       "output_type": "stream",
       "stream": "stdout",
       "text": [
        " \u2019\u00ae\u00ac \u045e \u0433\u0431\u0432\u0430\u00ae\u00a9\u0431\u0432\u045e\u0490 C \u00ad\u0490 \u0401\u00ac\u0490\u0490\u0432 \u00ac\u0490\u0432\u0404\u0401.\n",
        " \u2018\u0490\u0430\u0401\u00a9\u00ad\u043b\u00a9 \u00ad\u00ae\u00ac\u0490\u0430 \u0432\u00ae\u00ac\u00a0: 3262-2A05\n",
        "\n",
        " \u2018\u00ae\u00a4\u0490\u0430\u00a6\u0401\u00ac\u00ae\u0490 \u0407\u00a0\u0407\u0404\u0401 C:\\Users\\yuki\\repos\\mipt_ml\\Competition1\n",
        "\n",
        "11.03.2014  00:22    <DIR>          .\n",
        "11.03.2014  00:22    <DIR>          ..\n",
        "11.03.2014  00:22             7\u044f067 baseline (1).ipynb\n",
        "11.03.2014  00:25            37\u044f308 baseline.csv\n",
        "11.03.2014  00:23             5\u044f846 baseline.ipynb\n",
        "10.03.2014  21:28             1\u044f114 classifier.py\n",
        "09.03.2014  20:54            42\u044f107 sample_submission.csv\n",
        "09.03.2014  20:54         2\u044f211\u044f631 test.csv\n",
        "09.03.2014  20:54         4\u044f624\u044f989 train.csv\n",
        "11.03.2014  00:22                98 Untitled0.ipynb\n",
        "               8 \u0434\u00a0\u00a9\u00ab\u00ae\u045e      6\u044f930\u044f160 \u040e\u00a0\u00a9\u0432\n",
        "               2 \u0407\u00a0\u0407\u00ae\u0404  22\u044f103\u044f986\u044f176 \u040e\u00a0\u00a9\u0432 \u0431\u045e\u00ae\u040e\u00ae\u00a4\u00ad\u00ae\n"
       ]
      }
     ],
     "prompt_number": 115
    },
    {
     "cell_type": "code",
     "collapsed": false,
     "input": [
      "import pandas as pd \n",
      "import numpy as np"
     ],
     "language": "python",
     "metadata": {},
     "outputs": [],
     "prompt_number": 116
    },
    {
     "cell_type": "code",
     "collapsed": false,
     "input": [
      "df = pd.read_csv('train.csv')\n",
      "dt = pd.read_csv('test.csv')\n",
      "df['Id'] = -1\n",
      "dt['CLASS'] = '50000+'\n",
      "dt['TEST'] = 1\n",
      "df['TEST'] = 0\n",
      "da = pd.concat([df, dt])"
     ],
     "language": "python",
     "metadata": {},
     "outputs": [],
     "prompt_number": 117
    },
    {
     "cell_type": "code",
     "collapsed": false,
     "input": [
      "categorical_columns = set(df.columns[df.dtypes == 'object']) - {'CLASS', 'Id'}"
     ],
     "language": "python",
     "metadata": {},
     "outputs": [],
     "prompt_number": 118
    },
    {
     "cell_type": "code",
     "collapsed": false,
     "input": [
      "import copy\n",
      "\n",
      "def dummy_encode_categorical_columns(data, categorical_columns):\n",
      "    result_data = copy.deepcopy(data)\n",
      "    for column in categorical_columns:\n",
      "        result_data = pd.concat([result_data, pd.get_dummies(result_data[column], prefix = column, prefix_sep = ': ')], axis = 1)\n",
      "        del result_data[column]\n",
      "    return result_data\n",
      "\n",
      "#da_encoded = dummy_encode_categorical_columns(da, categorical_columns)\n",
      "#print da.columns\n",
      "for column in categorical_columns:\n",
      "    del da[column]\n",
      "#print da.columns"
     ],
     "language": "python",
     "metadata": {},
     "outputs": [],
     "prompt_number": 119
    },
    {
     "cell_type": "code",
     "collapsed": false,
     "input": [
      "X_train = da[da['TEST'] == 0].drop(['CLASS','TEST', 'Id'], axis = 1).values.astype(np.float32)\n",
      "X_test = da[da['TEST'] == 1].drop(['CLASS','TEST', 'Id'], axis = 1).values.astype(np.float32)\n",
      "Y_train = (da[da['TEST'] == 0]['CLASS'] == '50000+').values.astype(np.int32)\n"
     ],
     "language": "python",
     "metadata": {},
     "outputs": [],
     "prompt_number": 120
    },
    {
     "cell_type": "code",
     "collapsed": false,
     "input": [
      "from sklearn import preprocessing\n",
      "X_train = preprocessing.scale(X_train)\n",
      "X_test = preprocessing.scale(X_test)"
     ],
     "language": "python",
     "metadata": {},
     "outputs": [],
     "prompt_number": 121
    },
    {
     "cell_type": "code",
     "collapsed": false,
     "input": [
      "from sklearn.neighbors import KNeighborsClassifier as kNN\n",
      "clf = kNN(n_neighbors = 8);\n",
      "clf.fit(X_train, Y_train);\n",
      "preds = clf.predict(X_test)\n",
      "#preds = clf.predict_proba(X_test)[:,1]"
     ],
     "language": "python",
     "metadata": {},
     "outputs": [],
     "prompt_number": 122
    },
    {
     "cell_type": "code",
     "collapsed": false,
     "input": [
      "dt['Prediction'] = preds"
     ],
     "language": "python",
     "metadata": {},
     "outputs": [],
     "prompt_number": 123
    },
    {
     "cell_type": "code",
     "collapsed": false,
     "input": [
      "output = dt[['Id', 'Prediction']]\n"
     ],
     "language": "python",
     "metadata": {},
     "outputs": [],
     "prompt_number": 124
    },
    {
     "cell_type": "code",
     "collapsed": false,
     "input": [
      "output.to_csv('baseline.csv', index=False)"
     ],
     "language": "python",
     "metadata": {},
     "outputs": [],
     "prompt_number": 125
    },
    {
     "cell_type": "code",
     "collapsed": false,
     "input": [],
     "language": "python",
     "metadata": {},
     "outputs": []
    }
   ],
   "metadata": {}
  }
 ]
}