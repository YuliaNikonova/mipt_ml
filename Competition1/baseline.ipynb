{
 "metadata": {
  "name": ""
 },
 "nbformat": 3,
 "nbformat_minor": 0,
 "worksheets": [
  {
   "cells": [
    {
     "cell_type": "code",
     "collapsed": false,
     "input": [
      "import pandas as pd \n",
      "import numpy as np"
     ],
     "language": "python",
     "metadata": {},
     "outputs": [],
     "prompt_number": 174
    },
    {
     "cell_type": "code",
     "collapsed": false,
     "input": [
      "df = pd.read_csv('train.csv')\n",
      "dt = pd.read_csv('test.csv')\n",
      "df['Id'] = -1\n",
      "dt['CLASS'] = '50000+'\n",
      "dt['TEST'] = 1\n",
      "df['TEST'] = 0\n",
      "da = pd.concat([df, dt])"
     ],
     "language": "python",
     "metadata": {},
     "outputs": [],
     "prompt_number": 175
    },
    {
     "cell_type": "code",
     "collapsed": false,
     "input": [
      "categorical_columns = set(da.columns[da.dtypes == 'object']) - {'CLASS', 'Id'}"
     ],
     "language": "python",
     "metadata": {},
     "outputs": [],
     "prompt_number": 176
    },
    {
     "cell_type": "code",
     "collapsed": false,
     "input": [
      "import copy\n",
      "\n",
      "def dummy_encode_categorical_columns(data, categorical_columns):\n",
      "    result_data = copy.deepcopy(data)\n",
      "    for column in categorical_columns:\n",
      "        result_data = pd.concat([result_data, pd.get_dummies(result_data[column], prefix = column, prefix_sep = ': ')], axis = 1)\n",
      "        del result_data[column]\n",
      "    return result_data\n",
      "\n",
      "#da_encoded = dummy_encode_categorical_columns(da, categorical_columns)\n",
      "#print da.columns\n",
      "for column in categorical_columns:\n",
      "    del da[column]\n",
      "#print da.columns"
     ],
     "language": "python",
     "metadata": {},
     "outputs": [],
     "prompt_number": 177
    },
    {
     "cell_type": "code",
     "collapsed": false,
     "input": [
      "X_train = da[da['TEST'] == 0].drop(['CLASS','TEST', 'Id'], axis = 1).values.astype(np.float32)\n",
      "X_test = da[da['TEST'] == 1].drop(['CLASS','TEST', 'Id'], axis = 1).values.astype(np.float32)\n",
      "Y_train = (da[da['TEST'] == 0]['CLASS'] == '50000+').values.astype(np.int32)\n",
      "X=da[da['TEST'] == 0].drop(['CLASS','TEST', 'Id'], axis = 1).values.astype(np.float32)"
     ],
     "language": "python",
     "metadata": {},
     "outputs": [],
     "prompt_number": 178
    },
    {
     "cell_type": "code",
     "collapsed": false,
     "input": [
      "from sklearn import preprocessing\n",
      "X_train = preprocessing.scale(X_train)\n",
      "X_test = preprocessing.scale(X_test)\n"
     ],
     "language": "python",
     "metadata": {},
     "outputs": [],
     "prompt_number": 179
    },
    {
     "cell_type": "code",
     "collapsed": false,
     "input": [
      "from sklearn.neighbors import KNeighborsClassifier as kNN\n",
      "clf = kNN(n_neighbors = 15);\n",
      "clf.fit(X_train, Y_train);\n",
      "preds = clf.predict(X_test)\n",
      "#preds = clf.predict_proba(X_test)[:,1]"
     ],
     "language": "python",
     "metadata": {},
     "outputs": [],
     "prompt_number": 180
    },
    {
     "cell_type": "code",
     "collapsed": false,
     "input": [
      "dt['Prediction'] = preds"
     ],
     "language": "python",
     "metadata": {},
     "outputs": [],
     "prompt_number": 181
    },
    {
     "cell_type": "code",
     "collapsed": false,
     "input": [
      "output = dt[['Id', 'Prediction']]\n"
     ],
     "language": "python",
     "metadata": {},
     "outputs": [],
     "prompt_number": 182
    },
    {
     "cell_type": "code",
     "collapsed": false,
     "input": [
      "output.to_csv('baseline.csv', index=False)"
     ],
     "language": "python",
     "metadata": {},
     "outputs": [],
     "prompt_number": 183
    },
    {
     "cell_type": "code",
     "collapsed": false,
     "input": [],
     "language": "python",
     "metadata": {},
     "outputs": []
    }
   ],
   "metadata": {}
  }
 ]
}